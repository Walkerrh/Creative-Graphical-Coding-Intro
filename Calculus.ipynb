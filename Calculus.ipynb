{
  "nbformat": 4,
  "nbformat_minor": 0,
  "metadata": {
    "colab": {
      "provenance": [],
      "authorship_tag": "ABX9TyMQi17jvp+41QDVJzJedLfs",
      "include_colab_link": true
    },
    "kernelspec": {
      "name": "python3",
      "display_name": "Python 3"
    },
    "language_info": {
      "name": "python"
    }
  },
  "cells": [
    {
      "cell_type": "markdown",
      "metadata": {
        "id": "view-in-github",
        "colab_type": "text"
      },
      "source": [
        "<a href=\"https://colab.research.google.com/github/Walkerrh/Creative-Graphical-Coding-Intro/blob/main/Calculus.ipynb\" target=\"_parent\"><img src=\"https://colab.research.google.com/assets/colab-badge.svg\" alt=\"Open In Colab\"/></a>"
      ]
    },
    {
      "cell_type": "markdown",
      "source": [
        "### Greek Letters\n",
        "\n",
        "Many equations and formulas use Greek letters. The command is simple - just the backslash and the name of the letter. Capitalize the command to get the capital letter. Here are some examples:\n",
        "\n",
        "| Command | Display | Command | Display |\n",
        "| --- | --- | --- | --- |\n",
        "| `\\alpha` | $\\alpha$ | `\\mu` | $\\mu$ |\n",
        "| `\\beta` | $\\beta$ | `\\pi` | $\\pi$ |\n",
        "| `\\Gamma` | $\\Gamma$ | `\\rho` | $\\rho$ |\n",
        "| `\\delta` | $\\delta$ | `\\sigma` | $\\sigma$ |\n",
        "| `\\Delta` | $\\Delta$ | `\\Phi` | $\\Phi$ |\n",
        "| `\\lambda` | $\\lambda$ | `\\omega` | $\\omega$ |\n",
        "| `\\Lambda` | $\\Lambda$ | `\\Omega` | $\\Omega$ |\n",
        "\n",
        "```{note}\n",
        "Greek letters that are the same in English are an exception, for example, use A for Alpha, B for Beta, Z for Zeta. For more commands, see the Overleaf <a href=\"https://www.overleaf.com/learn/latex/List_of_Greek_letters_and_math_symbols#Greek_letters\">list of Greek letters</a>.\n",
        "```\n",
        "\n",
        "### Limits, Integrals, Products \\& Sums\n",
        "\n",
        "There are also commands for common operations that take upper and lower bounds:\n",
        "\n",
        "**Limits:**\n",
        "\n",
        "```\n",
        "\\[\n",
        "lim_{x \\to \\infty} f(x)\n",
        "\\]\n",
        "```\n",
        "\n",
        "results in\n",
        "\n",
        "$$\n",
        "lim_{x \\to \\infty} f(x)\n",
        "$$\n",
        "\n",
        "**Integrals**\n",
        "\n",
        "```\n",
        "\\[\n",
        "\\int_{a}^{b} x^2 dx\n",
        "\\]\n",
        "```\n",
        "\n",
        "results in\n",
        "\n",
        "$$\n",
        "\\int_{a}^{b} x^2 dx\n",
        "$$\n",
        "\n",
        "**Products**\n",
        "\n",
        "```\n",
        "\\[\n",
        "\\prod_{i=a}^{b} f(i)\n",
        "\\]\n",
        "```\n",
        "\n",
        "results in\n",
        "\n",
        "$$\n",
        "\\prod_{i=a}^{b} f(i)\n",
        "$$\n",
        "\n",
        "**Sums**\n",
        "\n",
        "What about summation ($\\sum$)?\n"
      ],
      "metadata": {
        "id": "xDgTLGA4N1vB"
      }
    }
  ]
}